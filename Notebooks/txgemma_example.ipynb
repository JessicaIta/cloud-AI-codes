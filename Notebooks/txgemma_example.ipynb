{
 "cells": [
  {
   "cell_type": "markdown",
   "id": "e0d7d223-ef1f-4980-935c-b178178d2af8",
   "metadata": {},
   "source": [
    "# TxtGemma na Vertex AI\n",
    "\n",
    "Tutorial básico de como fazer um deploy e testar o TxtGemma na Vertex AI."
   ]
  },
  {
   "cell_type": "markdown",
   "id": "941e5961-97d1-45e3-818f-d9ebde2cdb5b",
   "metadata": {
    "tags": []
   },
   "source": [
    "import json"
   ]
  },
  {
   "cell_type": "code",
   "execution_count": 2,
   "id": "d706e110-9afa-4600-8f77-a482ffcdf0cf",
   "metadata": {
    "tags": []
   },
   "outputs": [],
   "source": [
    "# Setando o projeto\n",
    "PROJECT_ID = ! gcloud config get project\n",
    "PROJECT_ID = PROJECT_ID[0]\n",
    "LOCATION = \"us-central1\""
   ]
  },
  {
   "cell_type": "code",
   "execution_count": 3,
   "id": "8abc54b6-c2d6-4f28-beb2-f6cd3c4a3c2a",
   "metadata": {
    "tags": []
   },
   "outputs": [
    {
     "name": "stdout",
     "output_type": "stream",
     "text": [
      "Copying gs://healthai-us/txgemma/templates/tdc_prompts.json to file://tdc_prompts.json\n",
      "  Completed files 1/1 | 750.0kiB/750.0kiB                                      \n",
      "\n",
      "Average throughput: 188.6MiB/s\n"
     ]
    }
   ],
   "source": [
    "! gcloud storage cp gs://healthai-us/txgemma/templates/tdc_prompts.json tdc_prompts.json\n",
    "\n",
    "with open(\"tdc_prompts.json\", \"r\") as f:\n",
    "    tdc_prompts_json = json.load(f)"
   ]
  },
  {
   "cell_type": "markdown",
   "id": "5815adfd-5f3a-441b-a100-a96bb4b3892e",
   "metadata": {},
   "source": [
    "## Realizando o Deploy do modelo do Tx Gemma na Vertex AI"
   ]
  },
  {
   "cell_type": "code",
   "execution_count": 4,
   "id": "ca1c7a9b-2ce6-4d7f-a0f9-7cd8453bd9ab",
   "metadata": {
    "tags": []
   },
   "outputs": [],
   "source": [
    "ENDPOINT_REGION = \"us-west1\" "
   ]
  },
  {
   "cell_type": "code",
   "execution_count": null,
   "id": "bef0ef3f-3104-4b7e-9f0c-f0a1152cbe90",
   "metadata": {
    "tags": []
   },
   "outputs": [],
   "source": [
    "import vertexai\n",
    "from vertexai import model_garden\n",
    "\n",
    "vertexai.init(project=PROJECT_ID, location=ENDPOINT_REGION)\n",
    "\n",
    "model = model_garden.OpenModel(\"google/txgemma@txgemma-9b-predict\")\n",
    "endpoint = model.deploy(\n",
    "  accept_eula=True,\n",
    "  machine_type=\"ct5lp-hightpu-4t\",\n",
    "  serving_container_image_uri=\"us-docker.pkg.dev/vertex-ai-restricted/vertex-vision-model-garden-dockers/hex-llm-serve:20241210_2323_RC00\",\n",
    "  endpoint_display_name=\"google_txgemma-9b-predict-mg-one-click-deploy\",\n",
    "  model_display_name=\"google_txgemma-9b-predict-1750206418914\",\n",
    "  use_dedicated_endpoint=True,\n",
    ")"
   ]
  },
  {
   "cell_type": "code",
   "execution_count": null,
   "id": "add299c6-13b2-4147-90c9-14e52115a7ee",
   "metadata": {
    "tags": []
   },
   "outputs": [],
   "source": [
    "print(endpoint.name)"
   ]
  },
  {
   "cell_type": "code",
   "execution_count": 10,
   "id": "28552c6d-a97d-4546-8d0c-13ceb66aab22",
   "metadata": {
    "tags": []
   },
   "outputs": [],
   "source": [
    "ENDPOINT_NAME = endpoint.name"
   ]
  },
  {
   "cell_type": "markdown",
   "id": "ca36d379-7f88-4313-8c35-bc9c76ee5f6d",
   "metadata": {},
   "source": [
    "## Utilizando o modelo"
   ]
  },
  {
   "cell_type": "code",
   "execution_count": 17,
   "id": "e4e86f42-d8b3-4309-9aeb-b1c209f4228f",
   "metadata": {
    "tags": []
   },
   "outputs": [],
   "source": [
    "# Inicializando a AI Platform\n",
    "\n",
    "from google.cloud import aiplatform\n",
    "\n",
    "aiplatform.init(project=PROJECT_ID, location=LOCATION)"
   ]
  },
  {
   "cell_type": "code",
   "execution_count": 18,
   "id": "7d7abd04-4751-45de-bd50-c807abb39f9c",
   "metadata": {
    "tags": []
   },
   "outputs": [],
   "source": [
    "endpoint_new = aiplatform.Endpoint(\n",
    "    endpoint_name=ENDPOINT_NAME,\n",
    "    project=PROJECT_ID,\n",
    "    location=ENDPOINT_REGION,\n",
    ")\n",
    "     "
   ]
  },
  {
   "cell_type": "code",
   "execution_count": 20,
   "id": "d220fa41-8a18-4c07-9f12-a03797fb70f2",
   "metadata": {
    "tags": []
   },
   "outputs": [
    {
     "name": "stdout",
     "output_type": "stream",
     "text": [
      "Formatted prompt:\n",
      "\n",
      "Instructions: Answer the following question about drug properties.\n",
      "Context: As a membrane separating circulating blood and brain extracellular fluid, the blood-brain barrier (BBB) is the protection layer that blocks most foreign drugs. Thus the ability of a drug to penetrate the barrier to deliver to the site of action forms a crucial challenge in development of drugs for central nervous system.\n",
      "Question: Given a drug SMILES string, predict whether it\n",
      "(A) does not cross the BBB (B) crosses the BBB\n",
      "Drug SMILES: CN1C(=O)CN=C(C2=CCCCC2)c2cc(Cl)ccc21\n",
      "Answer:\n"
     ]
    }
   ],
   "source": [
    "task_name = \"BBB_Martins\"\n",
    "input_type = \"{Drug SMILES}\"\n",
    "drug_smiles = \"CN1C(=O)CN=C(C2=CCCCC2)c2cc(Cl)ccc21\"\n",
    "\n",
    "\n",
    "TDC_PROMPT = tdc_prompts_json[task_name].replace(input_type, drug_smiles)\n",
    "print(\"Formatted prompt:\\n\")\n",
    "print(TDC_PROMPT)\n",
    "     "
   ]
  },
  {
   "cell_type": "code",
   "execution_count": 21,
   "id": "4446fbdd-bb7e-4fa4-98db-78392cddb3f2",
   "metadata": {
    "tags": []
   },
   "outputs": [
    {
     "name": "stdout",
     "output_type": "stream",
     "text": [
      "B\n"
     ]
    }
   ],
   "source": [
    "# Prepare request instance using sample prompt for a TDC task\n",
    "instances = [\n",
    "    {\n",
    "        \"prompt\": TDC_PROMPT,\n",
    "        \"max_tokens\": 8,\n",
    "        \"temperature\": 0\n",
    "    },\n",
    "]\n",
    "\n",
    "response = endpoint_new.predict(instances=instances)\n",
    "predictions = response.predictions\n",
    "\n",
    "print(predictions[0])"
   ]
  },
  {
   "cell_type": "markdown",
   "id": "d5a110cb-ad24-4bbc-b8dc-d06d882cee21",
   "metadata": {},
   "source": [
    "## Deleção do Endpoint"
   ]
  },
  {
   "cell_type": "code",
   "execution_count": null,
   "id": "074672d0-4799-4802-9f4f-6bde24e49ae3",
   "metadata": {
    "tags": []
   },
   "outputs": [],
   "source": [
    "input(\"Pressione Enter para deletar o Endpoint do Índice e o Índice:\")\n",
    "\n",
    "# deletar Index Endpoint\n",
    "endpoint_new.undeploy_all()\n",
    "endpoint_new.delete(force=True)\n"
   ]
  },
  {
   "cell_type": "code",
   "execution_count": null,
   "id": "6a4a397b-b7a1-4c74-b4a6-4c6a528441b6",
   "metadata": {},
   "outputs": [],
   "source": []
  }
 ],
 "metadata": {
  "environment": {
   "kernel": "conda-base-py",
   "name": "workbench-notebooks.m130",
   "type": "gcloud",
   "uri": "us-docker.pkg.dev/deeplearning-platform-release/gcr.io/workbench-notebooks:m130"
  },
  "kernelspec": {
   "display_name": "Python 3 (ipykernel) (Local)",
   "language": "python",
   "name": "conda-base-py"
  },
  "language_info": {
   "codemirror_mode": {
    "name": "ipython",
    "version": 3
   },
   "file_extension": ".py",
   "mimetype": "text/x-python",
   "name": "python",
   "nbconvert_exporter": "python",
   "pygments_lexer": "ipython3",
   "version": "3.10.18"
  }
 },
 "nbformat": 4,
 "nbformat_minor": 5
}
